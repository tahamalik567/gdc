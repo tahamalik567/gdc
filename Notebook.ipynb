{
 "cells": [
  {
   "cell_type": "markdown",
   "metadata": {},
   "source": [
    "**Task 1:**\n",
    "Begin by loading the ```Example.csv``` file into a pandas dataframe. Afterward, inspect the overall structure of\n",
    "the dataframe."
   ]
  },
  {
   "cell_type": "code",
   "execution_count": null,
   "metadata": {},
   "outputs": [],
   "source": [
    "import pandas as pd\n",
    "\n",
    "# Load the CSV file into a DataFrame\n",
    "file_path = './Example.csv'  \n",
    "data = pd.read_csv(file_path)\n",
    "\n",
    "# Inspect the structure of the DataFrame\n",
    "print(data.info())\n",
    "print(data.describe())\n"
   ]
  },
  {
   "cell_type": "markdown",
   "metadata": {},
   "source": [
    "**Task 2:** Address missing entries using statistical methods"
   ]
  },
  {
   "cell_type": "code",
   "execution_count": null,
   "metadata": {},
   "outputs": [],
   "source": [
    "# Fill missing entries with mean, median, or other statistical methods\n",
    "data_filled = data.fillna(data.mean())  # Filling missing entries with mean values\n",
    "\n",
    "# data_filled = data.fillna(data.median())\n",
    "# data_filled = data.ffill()\n",
    "# data_filled = data.bfill()\n",
    "\n",
    "print(data_filled.describe())\n"
   ]
  },
  {
   "cell_type": "markdown",
   "metadata": {},
   "source": [
    "**Task 3:** Produce a scatter plot of the DataFrame"
   ]
  },
  {
   "cell_type": "code",
   "execution_count": null,
   "metadata": {},
   "outputs": [],
   "source": [
    "import matplotlib.pyplot as plt\n",
    "\n",
    "# Scatter plot of the DataFrame\n",
    "plt.figure(figsize=(8, 6))\n",
    "plt.scatter(data_filled['A'], data_filled['B'])\n",
    "plt.title('Scatter plot of A vs B')\n",
    "plt.xlabel('A')\n",
    "plt.ylabel('B')\n",
    "plt.grid(True)\n",
    "plt.show()"
   ]
  },
  {
   "cell_type": "markdown",
   "metadata": {},
   "source": [
    "**Task 4:** Create a Linear Regression model and fit the data"
   ]
  },
  {
   "cell_type": "code",
   "execution_count": null,
   "metadata": {},
   "outputs": [],
   "source": [
    "from sklearn.linear_model import LinearRegression\n",
    "\n",
    "# Separate input (X) and output (y)\n",
    "X = data_filled[['A']]\n",
    "y = data_filled['B']\n",
    "\n",
    "# Create and fit the Linear Regression model\n",
    "model = LinearRegression()\n",
    "model.fit(X, y)\n"
   ]
  },
  {
   "cell_type": "markdown",
   "metadata": {},
   "source": [
    "**Task 5:** Calculate the total accuracy, intercept, and coefficients of the Linear Regression model"
   ]
  },
  {
   "cell_type": "code",
   "execution_count": null,
   "metadata": {},
   "outputs": [],
   "source": [
    "# Calculate R-squared score (accuracy)\n",
    "accuracy = model.score(X, y)\n",
    "print(f\"Accuracy (R-squared): {accuracy}\")\n",
    "\n",
    "# Get the intercept and coefficients\n",
    "intercept = model.intercept_\n",
    "coefficients = model.coef_\n",
    "print(f\"Intercept: {intercept}\")\n",
    "print(f\"Coefficients: {coefficients}\")\n"
   ]
  }
 ],
 "metadata": {
  "kernelspec": {
   "display_name": "Python 3",
   "language": "python",
   "name": "python3"
  },
  "language_info": {
   "codemirror_mode": {
    "name": "ipython",
    "version": 3
   },
   "file_extension": ".py",
   "mimetype": "text/x-python",
   "name": "python",
   "nbconvert_exporter": "python",
   "pygments_lexer": "ipython3",
   "version": "3.11.4"
  }
 },
 "nbformat": 4,
 "nbformat_minor": 2
}
